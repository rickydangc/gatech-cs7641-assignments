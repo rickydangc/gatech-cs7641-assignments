{
 "cells": [
  {
   "cell_type": "code",
   "execution_count": 1,
   "id": "constant-financing",
   "metadata": {},
   "outputs": [],
   "source": [
    "import pandas as pd\n",
    "from sklearn.utils import shuffle\n",
    "from sklearn.model_selection import train_test_split\n",
    "from sklearn.preprocessing import scale\n",
    "from sklearn.metrics import accuracy_score\n",
    "\n",
    "import six\n",
    "import sys\n",
    "sys.modules['sklearn.externals.six'] = six\n",
    "import time\n",
    "import mlrose\n",
    "from mlrose_hiive import RHCRunner, SARunner, GARunner, MIMICRunner, NeuralNetwork"
   ]
  },
  {
   "cell_type": "code",
   "execution_count": 2,
   "id": "secure-mexican",
   "metadata": {},
   "outputs": [],
   "source": [
    "# load our dataset\n",
    "data = pd.read_csv(\"../data/heart.csv\")\n",
    "\n",
    "# extract the images and labels from the dictionary object\n",
    "X = data.loc[:, data.columns != 'target']\n",
    "y = data.loc[:, data.columns == 'target']\n",
    "\n",
    "# shuffle to avoid underlying distributions\n",
    "X, y = shuffle(X, y, random_state=26)\n",
    "\n",
    "X_train, X_test, y_train, y_test = train_test_split(X, y, test_size=0.2, random_state=26)\n",
    "X_train = scale(X_train)\n",
    "X_test = scale(X_test)\n",
    "\n",
    "nn_model_rhc = mlrose.NeuralNetwork(hidden_nodes=[30], activation='relu',\n",
    "                                    algorithm='random_hill_climb', max_iters=1000,\n",
    "                                    bias=True, is_classifier=True, learning_rate=0.1,\n",
    "                                    early_stopping=True, clip_max=5, max_attempts=100,\n",
    "                                    random_state=13)\n",
    "nn_model_sa = mlrose.NeuralNetwork(hidden_nodes=[30], activation='relu',\n",
    "                                   algorithm='simulated_annealing', max_iters=1000,\n",
    "                                   bias=True, is_classifier=True, learning_rate=0.1,\n",
    "                                   early_stopping=True, clip_max=5, max_attempts=100,\n",
    "                                   random_state=13)\n",
    "nn_model_ga = mlrose.NeuralNetwork(hidden_nodes=[30], activation='relu',\n",
    "                                   algorithm='genetic_alg', max_iters=1000,\n",
    "                                   bias=True, is_classifier=True, learning_rate=0.1,\n",
    "                                   early_stopping=True, clip_max=5, max_attempts=100,\n",
    "                                   random_state=13)"
   ]
  },
  {
   "cell_type": "code",
   "execution_count": 3,
   "id": "caroline-environment",
   "metadata": {},
   "outputs": [
    {
     "name": "stdout",
     "output_type": "stream",
     "text": [
      "Train accuracy for NeuralNetwork(clip_max=5, early_stopping=True, hidden_nodes=[30],\n",
      "              max_iters=1000): 0.743801652892562\n",
      "Test accuracy for NeuralNetwork(clip_max=5, early_stopping=True, hidden_nodes=[30],\n",
      "              max_iters=1000): 0.7540983606557377\n",
      "Time needed: 14.152191877365112\n",
      "Train accuracy for NeuralNetwork(clip_max=5, early_stopping=True, hidden_nodes=[30],\n",
      "              max_iters=1000): 0.6735537190082644\n",
      "Test accuracy for NeuralNetwork(clip_max=5, early_stopping=True, hidden_nodes=[30],\n",
      "              max_iters=1000): 0.7049180327868853\n",
      "Time needed: 16.379271984100342\n",
      "Train accuracy for NeuralNetwork(clip_max=5, early_stopping=True, hidden_nodes=[30],\n",
      "              max_iters=1000): 0.7851239669421488\n",
      "Test accuracy for NeuralNetwork(clip_max=5, early_stopping=True, hidden_nodes=[30],\n",
      "              max_iters=1000): 0.8524590163934426\n",
      "Time needed: 73.10410213470459\n"
     ]
    }
   ],
   "source": [
    "neural_nets = [nn_model_rhc, nn_model_sa, nn_model_ga]\n",
    "\n",
    "for nn in neural_nets:\n",
    "    t = time.time()\n",
    "    nn.fit(X_train, y_train)\n",
    "\n",
    "    y_train_pred = nn.predict(X_train)\n",
    "    y_train_accuracy = accuracy_score(y_train, y_train_pred)\n",
    "    print(\"Train accuracy for {}: {}\".format(nn, y_train_accuracy))\n",
    "\n",
    "    y_test_pred = nn.predict(X_test)\n",
    "    y_test_accuracy = accuracy_score(y_test, y_test_pred)\n",
    "    print(\"Test accuracy for {}: {}\".format(nn, y_test_accuracy))\n",
    "    print(\"Time needed: {}\".format(time.time()-t))"
   ]
  }
 ],
 "metadata": {
  "kernelspec": {
   "display_name": "Python 3",
   "language": "python",
   "name": "python3"
  },
  "language_info": {
   "codemirror_mode": {
    "name": "ipython",
    "version": 3
   },
   "file_extension": ".py",
   "mimetype": "text/x-python",
   "name": "python",
   "nbconvert_exporter": "python",
   "pygments_lexer": "ipython3",
   "version": "3.7.4"
  }
 },
 "nbformat": 4,
 "nbformat_minor": 5
}
